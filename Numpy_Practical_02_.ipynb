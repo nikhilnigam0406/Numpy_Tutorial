{
 "cells": [
  {
   "cell_type": "markdown",
   "id": "fee20881",
   "metadata": {},
   "source": [
    "# NumPY Function Matrics"
   ]
  },
  {
   "cell_type": "code",
   "execution_count": 1,
   "id": "9632f315",
   "metadata": {},
   "outputs": [],
   "source": [
    "import numpy as np"
   ]
  },
  {
   "cell_type": "code",
   "execution_count": 4,
   "id": "d497e8c9",
   "metadata": {},
   "outputs": [
    {
     "name": "stdout",
     "output_type": "stream",
     "text": [
      "[ 1  2  3  4  5  6  7  8  9 10 11 12]\n"
     ]
    }
   ],
   "source": [
    "# np.arange(start, Ends(n-1), steps(gapping between))\n",
    "array_1D = np.arange(1,13)\n",
    "print(array_1D)"
   ]
  },
  {
   "cell_type": "code",
   "execution_count": 8,
   "id": "a8cde1bf",
   "metadata": {},
   "outputs": [
    {
     "name": "stdout",
     "output_type": "stream",
     "text": [
      "[ 1  3  5  7  9 11]\n"
     ]
    }
   ],
   "source": [
    "differnce_array = np.arange(1,13,2)\n",
    "print(differnce_array)"
   ]
  },
  {
   "cell_type": "code",
   "execution_count": 11,
   "id": "0fe4ea16",
   "metadata": {},
   "outputs": [
    {
     "data": {
      "text/plain": [
       "array([1.        , 2.33333333, 3.66666667, 5.        ])"
      ]
     },
     "execution_count": 11,
     "metadata": {},
     "output_type": "execute_result"
    }
   ],
   "source": [
    "# np.linespace()\n",
    "np.linspace(1,5,4)"
   ]
  },
  {
   "cell_type": "code",
   "execution_count": 13,
   "id": "78eafbf7",
   "metadata": {},
   "outputs": [
    {
     "name": "stdout",
     "output_type": "stream",
     "text": [
      "[[ 1  2  3  4  5  6]\n",
      " [ 7  8  9 10 11 12]]\n"
     ]
    }
   ],
   "source": [
    "# Reshape convert\n",
    "array_2D = array_1D.reshape(2,6)\n",
    "print(array_2D)"
   ]
  },
  {
   "cell_type": "code",
   "execution_count": 14,
   "id": "469bec39",
   "metadata": {},
   "outputs": [
    {
     "name": "stdout",
     "output_type": "stream",
     "text": [
      "[[ 1  2  3  4  5  6]\n",
      " [ 7  8  9 10 11 12]]\n"
     ]
    }
   ],
   "source": [
    "# arange function with reshape function = Matrix\n",
    "array_arang_resh = np.arange(1,13).reshape(2,6)\n",
    "print(array_arang_resh)\n"
   ]
  },
  {
   "cell_type": "code",
   "execution_count": 17,
   "id": "73933d69",
   "metadata": {},
   "outputs": [
    {
     "data": {
      "text/plain": [
       "array([ 1,  2,  3,  4,  5,  6,  7,  8,  9, 10, 11, 12])"
      ]
     },
     "execution_count": 17,
     "metadata": {},
     "output_type": "execute_result"
    }
   ],
   "source": [
    "#ravel function\n",
    "array_arang_resh.ravel()"
   ]
  },
  {
   "cell_type": "code",
   "execution_count": 20,
   "id": "75272d86",
   "metadata": {},
   "outputs": [
    {
     "data": {
      "text/plain": [
       "array([ 1,  2,  3,  4,  5,  6,  7,  8,  9, 10, 11, 12])"
      ]
     },
     "execution_count": 20,
     "metadata": {},
     "output_type": "execute_result"
    }
   ],
   "source": [
    "#flatten()\n",
    "array_arang_resh.flatten()"
   ]
  },
  {
   "cell_type": "code",
   "execution_count": 21,
   "id": "1d03a884",
   "metadata": {},
   "outputs": [
    {
     "data": {
      "text/plain": [
       "array([[ 1,  7],\n",
       "       [ 2,  8],\n",
       "       [ 3,  9],\n",
       "       [ 4, 10],\n",
       "       [ 5, 11],\n",
       "       [ 6, 12]])"
      ]
     },
     "execution_count": 21,
     "metadata": {},
     "output_type": "execute_result"
    }
   ],
   "source": [
    "# transpose()\n",
    "array_arang_resh.transpose()"
   ]
  },
  {
   "cell_type": "code",
   "execution_count": null,
   "id": "cdb5d164",
   "metadata": {},
   "outputs": [],
   "source": []
  }
 ],
 "metadata": {
  "kernelspec": {
   "display_name": "Python 3 (ipykernel)",
   "language": "python",
   "name": "python3"
  },
  "language_info": {
   "codemirror_mode": {
    "name": "ipython",
    "version": 3
   },
   "file_extension": ".py",
   "mimetype": "text/x-python",
   "name": "python",
   "nbconvert_exporter": "python",
   "pygments_lexer": "ipython3",
   "version": "3.11.4"
  }
 },
 "nbformat": 4,
 "nbformat_minor": 5
}
