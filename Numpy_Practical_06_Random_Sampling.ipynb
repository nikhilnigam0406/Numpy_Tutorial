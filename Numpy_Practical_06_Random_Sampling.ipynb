{
 "cells": [
  {
   "cell_type": "code",
   "execution_count": 2,
   "id": "56085915",
   "metadata": {},
   "outputs": [],
   "source": [
    "import numpy as np\n",
    "import random"
   ]
  },
  {
   "cell_type": "code",
   "execution_count": 3,
   "id": "97ec4469",
   "metadata": {},
   "outputs": [
    {
     "data": {
      "text/plain": [
       "array([0.64409858])"
      ]
     },
     "execution_count": 3,
     "metadata": {},
     "output_type": "execute_result"
    }
   ],
   "source": [
    "# Random value b/w 0 - given value\n",
    "# single array\n",
    "np.random.random(1)"
   ]
  },
  {
   "cell_type": "code",
   "execution_count": 4,
   "id": "badf05c2",
   "metadata": {},
   "outputs": [
    {
     "data": {
      "text/plain": [
       "array([[0.42284169, 0.68630599, 0.69589138],\n",
       "       [0.39198722, 0.41501429, 0.50823306],\n",
       "       [0.68599315, 0.23005249, 0.61855189]])"
      ]
     },
     "execution_count": 4,
     "metadata": {},
     "output_type": "execute_result"
    }
   ],
   "source": [
    "# Double random Tuple\n",
    "np.random.random((3,3))"
   ]
  },
  {
   "cell_type": "code",
   "execution_count": 7,
   "id": "1eb9a7ec",
   "metadata": {},
   "outputs": [
    {
     "data": {
      "text/plain": [
       "array([0, 0])"
      ]
     },
     "execution_count": 7,
     "metadata": {},
     "output_type": "execute_result"
    }
   ],
   "source": [
    "# Double random Tuple Integer type value\n",
    "np.random.randint((1,3))"
   ]
  },
  {
   "cell_type": "code",
   "execution_count": 9,
   "id": "c9c1fa48",
   "metadata": {},
   "outputs": [
    {
     "data": {
      "text/plain": [
       "array([[1, 2, 2, 2, 2, 2],\n",
       "       [2, 1, 1, 1, 2, 2],\n",
       "       [1, 1, 1, 2, 1, 1],\n",
       "       [2, 2, 1, 2, 2, 1],\n",
       "       [1, 1, 1, 2, 1, 1],\n",
       "       [1, 2, 2, 1, 1, 1]])"
      ]
     },
     "execution_count": 9,
     "metadata": {},
     "output_type": "execute_result"
    }
   ],
   "source": [
    "# Double random Tuple Integer type array\n",
    "np.random.randint(1,7,(6,6))"
   ]
  },
  {
   "cell_type": "code",
   "execution_count": 13,
   "id": "359ef823",
   "metadata": {},
   "outputs": [
    {
     "data": {
      "text/plain": [
       "array([[[4, 6, 7, 8, 2, 1],\n",
       "        [8, 2, 4, 4, 6, 8],\n",
       "        [7, 5, 1, 4, 1, 4],\n",
       "        [1, 5, 3, 2, 7, 7],\n",
       "        [7, 4, 3, 7, 7, 6],\n",
       "        [2, 5, 2, 8, 3, 1]],\n",
       "\n",
       "       [[3, 1, 3, 2, 4, 3],\n",
       "        [6, 4, 4, 3, 1, 6],\n",
       "        [3, 8, 8, 7, 3, 6],\n",
       "        [4, 7, 6, 8, 6, 7],\n",
       "        [7, 7, 4, 7, 1, 3],\n",
       "        [8, 2, 4, 4, 8, 2]],\n",
       "\n",
       "       [[6, 3, 5, 7, 8, 5],\n",
       "        [2, 5, 7, 4, 3, 8],\n",
       "        [7, 7, 3, 3, 1, 1],\n",
       "        [2, 7, 5, 6, 6, 4],\n",
       "        [8, 2, 5, 1, 1, 6],\n",
       "        [7, 7, 8, 6, 3, 5]]])"
      ]
     },
     "execution_count": 13,
     "metadata": {},
     "output_type": "execute_result"
    }
   ],
   "source": [
    "# random Tuple Integer type array N-D array {3}\n",
    "np.random.randint(1,9,(3,6,6))"
   ]
  },
  {
   "cell_type": "code",
   "execution_count": 26,
   "id": "4c832a27",
   "metadata": {},
   "outputs": [
    {
     "data": {
      "text/plain": [
       "array([[1, 1, 4],\n",
       "       [6, 2, 7],\n",
       "       [5, 7, 6]])"
      ]
     },
     "execution_count": 26,
     "metadata": {},
     "output_type": "execute_result"
    }
   ],
   "source": [
    "# Seed function size {(2**32)-1}\n",
    "np.random.seed(50)\n",
    "#(start, end, tuple(row and coloumn))\n",
    "np.random.randint(1,9,(1,3,3))"
   ]
  },
  {
   "cell_type": "code",
   "execution_count": 31,
   "id": "fd3ae030",
   "metadata": {},
   "outputs": [
    {
     "data": {
      "text/plain": [
       "array([[5, 4, 3],\n",
       "       [5, 1, 4],\n",
       "       [3, 3, 1]])"
      ]
     },
     "execution_count": 31,
     "metadata": {},
     "output_type": "execute_result"
    }
   ],
   "source": [
    "np.random.randint(1,9,(3,3))"
   ]
  },
  {
   "cell_type": "code",
   "execution_count": 33,
   "id": "83bb0238",
   "metadata": {},
   "outputs": [
    {
     "data": {
      "text/plain": [
       "3"
      ]
     },
     "execution_count": 33,
     "metadata": {},
     "output_type": "execute_result"
    }
   ],
   "source": [
    "x = [4,7,8,3,5,9]\n",
    "np.random.choice(x)"
   ]
  },
  {
   "cell_type": "code",
   "execution_count": 36,
   "id": "23ce914b",
   "metadata": {},
   "outputs": [
    {
     "data": {
      "text/plain": [
       "9"
      ]
     },
     "execution_count": 36,
     "metadata": {},
     "output_type": "execute_result"
    }
   ],
   "source": [
    "x = [4,7,8,3,5,9]\n",
    "np.random.choice(x)"
   ]
  },
  {
   "cell_type": "code",
   "execution_count": null,
   "id": "d3ac2c19",
   "metadata": {},
   "outputs": [],
   "source": []
  },
  {
   "cell_type": "code",
   "execution_count": null,
   "id": "df9785ea",
   "metadata": {},
   "outputs": [],
   "source": []
  }
 ],
 "metadata": {
  "kernelspec": {
   "display_name": "Python 3 (ipykernel)",
   "language": "python",
   "name": "python3"
  },
  "language_info": {
   "codemirror_mode": {
    "name": "ipython",
    "version": 3
   },
   "file_extension": ".py",
   "mimetype": "text/x-python",
   "name": "python",
   "nbconvert_exporter": "python",
   "pygments_lexer": "ipython3",
   "version": "3.11.4"
  }
 },
 "nbformat": 4,
 "nbformat_minor": 5
}
