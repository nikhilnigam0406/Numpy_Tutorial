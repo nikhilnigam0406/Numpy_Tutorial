{
 "cells": [
  {
   "cell_type": "code",
   "execution_count": 11,
   "id": "c6bc605e",
   "metadata": {},
   "outputs": [],
   "source": [
    "import numpy as np"
   ]
  },
  {
   "cell_type": "code",
   "execution_count": 12,
   "id": "5bee16de",
   "metadata": {},
   "outputs": [
    {
     "name": "stdout",
     "output_type": "stream",
     "text": [
      "Hello world\n"
     ]
    }
   ],
   "source": [
    "print(\"Hello world\")"
   ]
  },
  {
   "cell_type": "code",
   "execution_count": 13,
   "id": "65aaba93",
   "metadata": {},
   "outputs": [],
   "source": [
    "# comment - Sucessesful install start"
   ]
  },
  {
   "cell_type": "code",
   "execution_count": 15,
   "id": "7aa76d40",
   "metadata": {},
   "outputs": [
    {
     "name": "stdout",
     "output_type": "stream",
     "text": [
      "[1 2 3 4]\n"
     ]
    }
   ],
   "source": [
    "array_1D = np.array([1,2,3,4])\n",
    "print(array_1D)\n",
    "# Simple Array 1D print"
   ]
  },
  {
   "cell_type": "code",
   "execution_count": 22,
   "id": "5af143e3",
   "metadata": {},
   "outputs": [
    {
     "data": {
      "text/plain": [
       "4"
      ]
     },
     "execution_count": 22,
     "metadata": {},
     "output_type": "execute_result"
    }
   ],
   "source": [
    "np.size(array_1D)"
   ]
  },
  {
   "cell_type": "code",
   "execution_count": 23,
   "id": "7160fa3b",
   "metadata": {},
   "outputs": [
    {
     "name": "stdout",
     "output_type": "stream",
     "text": [
      "\n",
      " (4,)\n"
     ]
    }
   ],
   "source": [
    "print(\"\\n\",np.shape(array_1D))"
   ]
  },
  {
   "cell_type": "code",
   "execution_count": 24,
   "id": "cd8b9b7e",
   "metadata": {},
   "outputs": [
    {
     "data": {
      "text/plain": [
       "numpy.ndarray"
      ]
     },
     "execution_count": 24,
     "metadata": {},
     "output_type": "execute_result"
    }
   ],
   "source": [
    "type(array_1D)"
   ]
  },
  {
   "cell_type": "code",
   "execution_count": null,
   "id": "a0147a47",
   "metadata": {},
   "outputs": [],
   "source": []
  }
 ],
 "metadata": {
  "kernelspec": {
   "display_name": "Python 3 (ipykernel)",
   "language": "python",
   "name": "python3"
  },
  "language_info": {
   "codemirror_mode": {
    "name": "ipython",
    "version": 3
   },
   "file_extension": ".py",
   "mimetype": "text/x-python",
   "name": "python",
   "nbconvert_exporter": "python",
   "pygments_lexer": "ipython3",
   "version": "3.11.4"
  }
 },
 "nbformat": 4,
 "nbformat_minor": 5
}
