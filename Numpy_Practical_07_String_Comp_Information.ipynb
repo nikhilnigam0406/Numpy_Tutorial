{
 "cells": [
  {
   "cell_type": "code",
   "execution_count": 1,
   "id": "2e73fdb3",
   "metadata": {},
   "outputs": [],
   "source": [
    "import numpy as np"
   ]
  },
  {
   "cell_type": "code",
   "execution_count": 2,
   "id": "b0baaa9c",
   "metadata": {},
   "outputs": [],
   "source": [
    "ch_name = \"Welcome In India\"\n",
    "string_01 = \"Delhi is the capital of India\""
   ]
  },
  {
   "cell_type": "code",
   "execution_count": 3,
   "id": "7e22503a",
   "metadata": {},
   "outputs": [
    {
     "data": {
      "text/plain": [
       "array('Welcome In IndiaDelhi is the capital of India', dtype='<U45')"
      ]
     },
     "execution_count": 3,
     "metadata": {},
     "output_type": "execute_result"
    }
   ],
   "source": [
    "# concatenate two string \n",
    "np.char.add(ch_name,string_01)"
   ]
  },
  {
   "cell_type": "code",
   "execution_count": 4,
   "id": "402c0418",
   "metadata": {},
   "outputs": [
    {
     "data": {
      "text/plain": [
       "array('DELHI IS THE CAPITAL OF INDIA', dtype='<U29')"
      ]
     },
     "execution_count": 4,
     "metadata": {},
     "output_type": "execute_result"
    }
   ],
   "source": [
    "# Cpatial Complete all string\n",
    "np.char.upper(string_01)"
   ]
  },
  {
   "cell_type": "code",
   "execution_count": 5,
   "id": "5ee71049",
   "metadata": {},
   "outputs": [
    {
     "data": {
      "text/plain": [
       "array('welcome in india', dtype='<U16')"
      ]
     },
     "execution_count": 5,
     "metadata": {},
     "output_type": "execute_result"
    }
   ],
   "source": [
    "np.char.lower(ch_name)"
   ]
  },
  {
   "cell_type": "code",
   "execution_count": 19,
   "id": "4b93770b",
   "metadata": {},
   "outputs": [
    {
     "data": {
      "text/plain": [
       "array('@@@@@@@@@@@@@@@@@@@@@@@@@@@@@@Delhi is the capital of India@@@@@@@@@@@@@@@@@@@@@@@@@@@@@@@',\n",
       "      dtype='<U90')"
      ]
     },
     "execution_count": 19,
     "metadata": {},
     "output_type": "execute_result"
    }
   ],
   "source": [
    "np.char.center(string_01,90,fillchar=\"@\")"
   ]
  },
  {
   "cell_type": "code",
   "execution_count": 9,
   "id": "5d20dfaa",
   "metadata": {},
   "outputs": [
    {
     "data": {
      "text/plain": [
       "array(list(['Welcome', 'In', 'India']), dtype=object)"
      ]
     },
     "execution_count": 9,
     "metadata": {},
     "output_type": "execute_result"
    }
   ],
   "source": [
    "# split in each word \n",
    "np.char.split(ch_name)"
   ]
  },
  {
   "cell_type": "code",
   "execution_count": 10,
   "id": "799ccee2",
   "metadata": {},
   "outputs": [
    {
     "data": {
      "text/plain": [
       "array(list(['hello', 'Indian']), dtype=object)"
      ]
     },
     "execution_count": 10,
     "metadata": {},
     "output_type": "execute_result"
    }
   ],
   "source": [
    "# used when two string join in \n",
    "np.char.splitlines(\"hello\\nIndian\")"
   ]
  },
  {
   "cell_type": "code",
   "execution_count": 13,
   "id": "3631271a",
   "metadata": {},
   "outputs": [
    {
     "data": {
      "text/plain": [
       "array(['d::m::y', 'd//m//y'], dtype='<U7')"
      ]
     },
     "execution_count": 13,
     "metadata": {},
     "output_type": "execute_result"
    }
   ],
   "source": [
    "#Join method char to char\n",
    "str4 = \"dmy\"\n",
    "str5 = \"dmy\"\n",
    "np.char.join([\"::\",\"//\"],[str4,str5])"
   ]
  },
  {
   "cell_type": "code",
   "execution_count": 14,
   "id": "664bea58",
   "metadata": {},
   "outputs": [
    {
     "data": {
      "text/plain": [
       "array('Welcome In Delhi', dtype='<U16')"
      ]
     },
     "execution_count": 14,
     "metadata": {},
     "output_type": "execute_result"
    }
   ],
   "source": [
    "np.char.replace(ch_name, \"India\",\"Delhi\")"
   ]
  },
  {
   "cell_type": "code",
   "execution_count": null,
   "id": "84926a50",
   "metadata": {},
   "outputs": [],
   "source": []
  }
 ],
 "metadata": {
  "kernelspec": {
   "display_name": "Python 3 (ipykernel)",
   "language": "python",
   "name": "python3"
  },
  "language_info": {
   "codemirror_mode": {
    "name": "ipython",
    "version": 3
   },
   "file_extension": ".py",
   "mimetype": "text/x-python",
   "name": "python",
   "nbconvert_exporter": "python",
   "pygments_lexer": "ipython3",
   "version": "3.11.4"
  }
 },
 "nbformat": 4,
 "nbformat_minor": 5
}
